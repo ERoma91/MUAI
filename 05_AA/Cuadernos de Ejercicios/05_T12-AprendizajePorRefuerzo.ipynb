{
 "cells": [
  {
   "cell_type": "markdown",
   "source": [
    "Autor: Erick Rodríguez Martínez\n",
    "Fecha: 20/Febrero/2023\n",
    "\n",
    "# Master Universitario en Inteligencía Artificial\n",
    "## Aprendizaje Automático\n",
    "### Cuaderno te Ejercicios T12 - Aprendizaje Por Refuerzo\n",
    "+ Un Ejemplo Sencillo"
   ],
   "metadata": {
    "collapsed": false
   }
  },
  {
   "cell_type": "markdown",
   "source": [
    "En el siguiente Notebook vamos a presentar un ejemplo muy sencillo con el que comprender como funciona el algoritmo clasico de QLearning. El objetivo de QLearning es aprender una serie de normas que le diga a un agente que acción tomar bajo que circunstancias.\n",
    "\n",
    "El código que aquí vamos a utilizar es una adaptación del que podemos encontrar en: http://mnemstudio.org/path-finding-q-learning-tutorial.htm"
   ],
   "metadata": {
    "collapsed": false
   }
  },
  {
   "cell_type": "markdown",
   "source": [
    "# 0. Install Python Packages"
   ],
   "metadata": {
    "collapsed": false
   }
  },
  {
   "cell_type": "code",
   "execution_count": 1298,
   "outputs": [],
   "source": [
    "# Open CV - Open Source Computer Vision Library\n",
    "# !pip install opencv-python\n",
    "\n",
    "# Matplotlib - Comprehensive library for creating static, animated, and interactive visualizations in Python.\n",
    "# !pip install matplotlib\n",
    "\n",
    "# A series of OpenCV+ convenience functions that perform basics tasks\n",
    "# !pip install imutils\n",
    "\n",
    "# Mahotas - Fast computer vision algorithms (all implemented in C++ for speed) operating over numpy arrays\n",
    "# !pip install mahotas"
   ],
   "metadata": {
    "collapsed": false
   }
  },
  {
   "cell_type": "markdown",
   "source": [
    "# 1. Import Python Libraries"
   ],
   "metadata": {
    "collapsed": false
   }
  },
  {
   "cell_type": "code",
   "execution_count": 1299,
   "outputs": [],
   "source": [
    "import numpy as np\n",
    "import pylab as plb\n",
    "import networkx as nx\n",
    "import random"
   ],
   "metadata": {
    "collapsed": false
   }
  },
  {
   "cell_type": "markdown",
   "source": [
    "## 2. Set-Up"
   ],
   "metadata": {
    "collapsed": false
   }
  },
  {
   "cell_type": "code",
   "execution_count": 1300,
   "outputs": [],
   "source": [
    "# Initialize Global Variables\n",
    "randomInitState = 0\n",
    "goal = 7\n",
    "gamma = 0.2"
   ],
   "metadata": {
    "collapsed": false
   }
  },
  {
   "cell_type": "markdown",
   "source": [
    "# 3. Definition and plotting of the Graph (Map)"
   ],
   "metadata": {
    "collapsed": false
   }
  },
  {
   "cell_type": "code",
   "execution_count": 1301,
   "outputs": [
    {
     "data": {
      "text/plain": "<Figure size 640x480 with 1 Axes>",
      "image/png": "[encoded data removed]"
     },
     "metadata": {},
     "output_type": "display_data"
    }
   ],
   "source": [
    "mapPoints = [(0, 1), (1, 5), (5, 6), (5, 4), (1, 2), (2, 3), (2, 7)]\n",
    "\n",
    "map = nx.Graph()\n",
    "map.add_edges_from(mapPoints)\n",
    "pos = nx.spring_layout(map, seed= 31)\n",
    "nx.draw_networkx_nodes(map,pos)\n",
    "nx.draw_networkx_edges(map,pos)\n",
    "nx.draw_networkx_labels(map,pos)\n",
    "plb.show()"
   ],
   "metadata": {
    "collapsed": false
   }
  },
  {
   "cell_type": "markdown",
   "source": [
    "# 4. Build the Reward Matrix\n",
    "## 4.1 Build Reward Matrix and set the Reward Values of the entire matrix to -1 as a first step\n",
    "##### In the future, when we see a value of -1, it'll mean that it's not a valid option to be chosen."
   ],
   "metadata": {
    "collapsed": false
   }
  },
  {
   "cell_type": "code",
   "execution_count": 1302,
   "outputs": [
    {
     "name": "stdout",
     "output_type": "stream",
     "text": [
      "[[-1. -1. -1. -1. -1. -1. -1. -1.]\n",
      " [-1. -1. -1. -1. -1. -1. -1. -1.]\n",
      " [-1. -1. -1. -1. -1. -1. -1. -1.]\n",
      " [-1. -1. -1. -1. -1. -1. -1. -1.]\n",
      " [-1. -1. -1. -1. -1. -1. -1. -1.]\n",
      " [-1. -1. -1. -1. -1. -1. -1. -1.]\n",
      " [-1. -1. -1. -1. -1. -1. -1. -1.]\n",
      " [-1. -1. -1. -1. -1. -1. -1. -1.]]\n"
     ]
    }
   ],
   "source": [
    "matrixSize = len(mapPoints) + 1\n",
    "matrixRewards = np.matrix(np.ones((matrixSize, matrixSize)))\n",
    "matrixRewards *= -1\n",
    "print(matrixRewards)"
   ],
   "metadata": {
    "collapsed": false
   }
  },
  {
   "cell_type": "markdown",
   "source": [
    "## 4.2 Populate in the Reward Matrix with 0's and 100's depending on whether the points are Paths or Goals respectively\n",
    "##### Consider points as bidirectional paths, which means that a connection X -> Y (X, Y) should also be checked as Y -> X (Y, X), unless it is a target, in which case it should only be considered as a one-way path because we wouldn't like to go back if we have already reached a target position and we're not supposed to start from a Goal Position such as \"G -> Y (G, Y) or Y -> G (Y,G)\"\n",
    "* Paths -> Reward = 0\n",
    "* Goals -> Reward = 100\n",
    "* Invalid Position -> Reward = Remains to -1"
   ],
   "metadata": {
    "collapsed": false
   }
  },
  {
   "cell_type": "code",
   "execution_count": 1303,
   "outputs": [
    {
     "name": "stdout",
     "output_type": "stream",
     "text": [
      "[[ -1.   0.  -1.  -1.  -1.  -1.  -1.  -1.]\n",
      " [  0.  -1.   0.  -1.  -1.   0.  -1.  -1.]\n",
      " [ -1.   0.  -1.   0.  -1.  -1.  -1. 100.]\n",
      " [ -1.  -1.   0.  -1.  -1.  -1.  -1.  -1.]\n",
      " [ -1.  -1.  -1.  -1.  -1.   0.  -1.  -1.]\n",
      " [ -1.   0.  -1.  -1.   0.  -1.   0.  -1.]\n",
      " [ -1.  -1.  -1.  -1.  -1.   0.  -1.  -1.]\n",
      " [ -1.  -1.   0.  -1.  -1.  -1.  -1.  -1.]]\n"
     ]
    }
   ],
   "source": [
    "goal = 7\n",
    "\n",
    "for point in mapPoints:\n",
    "    if point[1] == goal:\n",
    "        matrixRewards[point] = 100\n",
    "    else:\n",
    "        matrixRewards[point] = 0\n",
    "    if point[0] == goal:\n",
    "        matrixRewards[point[::-1]] = 100\n",
    "    else:\n",
    "        matrixRewards[point[::-1]] = 0\n",
    "\n",
    "print(matrixRewards)"
   ],
   "metadata": {
    "collapsed": false
   }
  },
  {
   "cell_type": "markdown",
   "source": [
    "# 5. Build Q Matrix"
   ],
   "metadata": {
    "collapsed": false
   }
  },
  {
   "cell_type": "code",
   "execution_count": 1304,
   "outputs": [
    {
     "name": "stdout",
     "output_type": "stream",
     "text": [
      "[[0. 0. 0. 0. 0. 0. 0. 0.]\n",
      " [0. 0. 0. 0. 0. 0. 0. 0.]\n",
      " [0. 0. 0. 0. 0. 0. 0. 0.]\n",
      " [0. 0. 0. 0. 0. 0. 0. 0.]\n",
      " [0. 0. 0. 0. 0. 0. 0. 0.]\n",
      " [0. 0. 0. 0. 0. 0. 0. 0.]\n",
      " [0. 0. 0. 0. 0. 0. 0. 0.]\n",
      " [0. 0. 0. 0. 0. 0. 0. 0.]]\n"
     ]
    }
   ],
   "source": [
    "Q = np.zeros_like(matrixRewards)\n",
    "print(Q)"
   ],
   "metadata": {
    "collapsed": false
   }
  },
  {
   "cell_type": "markdown",
   "source": [
    "La fórmula que utiliza QLearning para transicionar es muy sencilla\n",
    "Q(state action) = R(state action) + gamma * (Q(nextState allActions)\n",
    "$Q(state, nextstate) = R(state, next state) + gamma*max[Q(next state, all third states)]$\n",
    "Gamma debe ser un valor entre 0 y 1. Si Gamma está más cerca de cero el agente tendera a considerar solo recompensas inmediatas Si Gamma está más cerca de uno, el agente considerará recompensas futuras con mayor peso dispuesto a retrasar las recompensas"
   ],
   "metadata": {
    "collapsed": false
   }
  },
  {
   "cell_type": "markdown",
   "source": [
    "# 6. [Step By Step] - Training\n",
    "## 6.1 Select a Random Init State"
   ],
   "metadata": {
    "collapsed": false
   }
  },
  {
   "cell_type": "code",
   "execution_count": 1305,
   "outputs": [
    {
     "name": "stdout",
     "output_type": "stream",
     "text": [
      "1\n"
     ]
    }
   ],
   "source": [
    "while (randomInitState == 0) or (randomInitState == goal):\n",
    "    randomInitState = np.random.randint(len(mapPoints))\n",
    "\n",
    "state = randomInitState\n",
    "print(state)\n",
    "\n",
    "randomInitState = 0"
   ],
   "metadata": {
    "collapsed": false
   }
  },
  {
   "cell_type": "markdown",
   "source": [
    "## 6.2. Select one among all possible actions (Next State) for the Current State"
   ],
   "metadata": {
    "collapsed": false
   }
  },
  {
   "cell_type": "code",
   "execution_count": 1306,
   "outputs": [
    {
     "name": "stdout",
     "output_type": "stream",
     "text": [
      "[[ 0. -1.  0. -1. -1.  0. -1. -1.]]\n",
      "[0, 2, 5]\n"
     ]
    }
   ],
   "source": [
    "# Check all possible next states options\n",
    "# {k for k, v in <dict>.items() if v == value} - Returns set of keys that point to the value.\n",
    "nextStateOptions = [__ for __, option in enumerate(np.nditer(matrixRewards[state])) if option >= 0]\n",
    "\n",
    "print(matrixRewards[state])\n",
    "print(nextStateOptions)"
   ],
   "metadata": {
    "collapsed": false
   }
  },
  {
   "cell_type": "code",
   "execution_count": 1307,
   "outputs": [
    {
     "name": "stdout",
     "output_type": "stream",
     "text": [
      "0\n"
     ]
    }
   ],
   "source": [
    "# Make a random choice of next state\n",
    "nextState = random.choice(nextStateOptions)\n",
    "print(nextState)"
   ],
   "metadata": {
    "collapsed": false
   }
  },
  {
   "cell_type": "markdown",
   "source": [
    "## 6.3. Training Section\n",
    "### 6.3.1 Compute $Q(state, nextstate) = R(state, next state) + gamma*max[Q(next state, all third states)]$\n"
   ],
   "metadata": {
    "collapsed": false
   }
  },
  {
   "cell_type": "code",
   "execution_count": 1308,
   "outputs": [
    {
     "name": "stdout",
     "output_type": "stream",
     "text": [
      "0.0\n",
      "0.0\n",
      "0.2\n",
      "[[0. 0. 0. 0. 0. 0. 0. 0.]]\n",
      "0\n"
     ]
    }
   ],
   "source": [
    "print(Q[state, nextState])\n",
    "print(matrixRewards[state, nextState])\n",
    "print(gamma)\n",
    "print(Q[nextState])\n",
    "print(Q[nextState].argmax())\n"
   ],
   "metadata": {
    "collapsed": false
   }
  },
  {
   "cell_type": "code",
   "execution_count": 1309,
   "outputs": [
    {
     "name": "stdout",
     "output_type": "stream",
     "text": [
      "[[0. 0. 0. 0. 0. 0. 0. 0.]\n",
      " [0. 0. 0. 0. 0. 0. 0. 0.]\n",
      " [0. 0. 0. 0. 0. 0. 0. 0.]\n",
      " [0. 0. 0. 0. 0. 0. 0. 0.]\n",
      " [0. 0. 0. 0. 0. 0. 0. 0.]\n",
      " [0. 0. 0. 0. 0. 0. 0. 0.]\n",
      " [0. 0. 0. 0. 0. 0. 0. 0.]\n",
      " [0. 0. 0. 0. 0. 0. 0. 0.]]\n"
     ]
    }
   ],
   "source": [
    "Q[state, nextState] = matrixRewards[state, nextState] + gamma * Q[nextState].argmax()\n",
    "print(Q)"
   ],
   "metadata": {
    "collapsed": false
   }
  },
  {
   "cell_type": "code",
   "execution_count": 1310,
   "outputs": [
    {
     "name": "stdout",
     "output_type": "stream",
     "text": [
      "0\n"
     ]
    }
   ],
   "source": [
    "state = nextState\n",
    "print(state)"
   ],
   "metadata": {
    "collapsed": false
   }
  },
  {
   "cell_type": "markdown",
   "source": [
    "### 6.3.2 Check if goal has been reached"
   ],
   "metadata": {
    "collapsed": false
   }
  },
  {
   "cell_type": "code",
   "execution_count": 1311,
   "outputs": [
    {
     "name": "stdout",
     "output_type": "stream",
     "text": [
      "Goal has not been reached\n"
     ]
    }
   ],
   "source": [
    "if state == goal:\n",
    "    print('Goal has been reached')\n",
    "else:\n",
    "    print('Goal has not been reached')"
   ],
   "metadata": {
    "collapsed": false
   }
  },
  {
   "cell_type": "markdown",
   "source": [
    "# 7. [Straight Forward] - Training"
   ],
   "metadata": {
    "collapsed": false
   }
  },
  {
   "cell_type": "code",
   "execution_count": null,
   "outputs": [],
   "source": [
    "def\n",
    "while (randomInitState == 0) or (randomInitState == goal):\n",
    "    randomInitState = np.random.randint(len(mapPoints))\n",
    "\n",
    "state = randomInitState\n",
    "print(state)\n",
    "\n",
    "randomInitState = 0"
   ],
   "metadata": {
    "collapsed": false
   }
  },
  {
   "cell_type": "code",
   "execution_count": 1312,
   "outputs": [
    {
     "ename": "SyntaxError",
     "evalue": "invalid syntax (455826207.py, line 4)",
     "output_type": "error",
     "traceback": [
      "\u001B[1;36m  Cell \u001B[1;32mIn[1312], line 4\u001B[1;36m\u001B[0m\n\u001B[1;33m    for __ in range\u001B[0m\n\u001B[1;37m                   ^\u001B[0m\n\u001B[1;31mSyntaxError\u001B[0m\u001B[1;31m:\u001B[0m invalid syntax\n"
     ]
    }
   ],
   "source": [
    "score = []\n",
    "numberEpisodes = 700\n",
    "\n",
    "for __ in range(numberEpisodes):\n",
    "\n"
   ],
   "metadata": {
    "collapsed": false
   }
  }
 ],
 "metadata": {
  "kernelspec": {
   "display_name": "Python 3",
   "language": "python",
   "name": "python3"
  },
  "language_info": {
   "codemirror_mode": {
    "name": "ipython",
    "version": 2
   },
   "file_extension": ".py",
   "mimetype": "text/x-python",
   "name": "python",
   "nbconvert_exporter": "python",
   "pygments_lexer": "ipython2",
   "version": "2.7.6"
  }
 },
 "nbformat": 4,
 "nbformat_minor": 0
}
