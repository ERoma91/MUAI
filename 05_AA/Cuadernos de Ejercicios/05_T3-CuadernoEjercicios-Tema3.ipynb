{
 "cells": [
  {
   "cell_type": "markdown",
   "id": "03ea6786",
   "metadata": {},
   "source": [
    "# Tema 3: Evaluación de algoritmos de clasificación\n",
    "## Cuaderno de ejercicios"
   ]
  },
  {
   "cell_type": "markdown",
   "id": "986987d5",
   "metadata": {},
   "source": [
    "**Ejercicio 1**\n",
    "\n",
    "Supongamos que hemos utilizado un clasificador, por ejemplo, Naive Bayes, para clasificar documentos con respecto al sentimiento. Las clases son Pos (positivo), Neg (negativo) y Neu (neutro). Probamos nuestro clasificador en 10 documentos para los que conocemos su _gold standar_ (clase real). La prueba tiene los siguientes resultados:\n",
    "\n",
    "| Documento | Clase Real | Clase predicha |\n",
    "| ------------- | ------------- | ------------- |\n",
    "| d1  | Pos  | Pos |\n",
    "| d2  | Pos  | Pos |\n",
    "| d3  | Pos  | Pos |\n",
    "| d4  | Pos  | Neu |\n",
    "| d5  | Neg  | Neg |\n",
    "| d6  | Neg  | Neu |\n",
    "| d7  | Neg  | Neg |\n",
    "| d8  | Neu  | Pos |\n",
    "| d9  | Neu  | Neu |\n",
    "| d10  | Neu  | Neu |\n",
    "\n",
    "Calcular: precision, recall, accuracy y F1 para estos resultados de clasificación para las tres clases."
   ]
  },
  {
   "cell_type": "code",
   "execution_count": null,
   "id": "ac70371b",
   "metadata": {},
   "outputs": [],
   "source": [
    "import pandas as pd\n",
    "\n",
    "datos = [[1,'Pos','Pos'],\n",
    "        [2,'Pos','Pos'],\n",
    "        [3,'Pos','Pos'],\n",
    "        [4,'Pos','Neu'],\n",
    "        [5,'Neg','Neg'],\n",
    "        [6,'Neg','Neu'],\n",
    "        [7,'Neg','Neg'],\n",
    "        [8,'Neu','Pos'],\n",
    "        [9,'Neu','Neu'],\n",
    "        [10,'Neu','Neu']]\n",
    "# el identificador de documento realmente no haría falta\n",
    "\n",
    "# definimos los nombres de las columnas\n",
    "columnas = ['id', 'Real', 'Predicted'] \n",
    "\n",
    "df = pd.DataFrame(datos, columns=columnas)\n",
    "\n",
    "print(df)"
   ]
  },
  {
   "cell_type": "code",
   "execution_count": null,
   "id": "ad884354",
   "metadata": {},
   "outputs": [],
   "source": []
  },
  {
   "cell_type": "code",
   "execution_count": null,
   "id": "9a5e36e0",
   "metadata": {},
   "outputs": [],
   "source": []
  },
  {
   "cell_type": "code",
   "execution_count": null,
   "id": "99d9e823",
   "metadata": {},
   "outputs": [],
   "source": []
  },
  {
   "cell_type": "code",
   "execution_count": null,
   "id": "2b843677",
   "metadata": {},
   "outputs": [],
   "source": []
  },
  {
   "cell_type": "code",
   "execution_count": null,
   "id": "f1bae9d9",
   "metadata": {},
   "outputs": [],
   "source": []
  },
  {
   "cell_type": "code",
   "execution_count": null,
   "id": "287c2e44",
   "metadata": {},
   "outputs": [],
   "source": []
  },
  {
   "cell_type": "code",
   "execution_count": null,
   "id": "a5e2062c",
   "metadata": {},
   "outputs": [],
   "source": []
  },
  {
   "cell_type": "code",
   "execution_count": null,
   "id": "93d5f377",
   "metadata": {},
   "outputs": [],
   "source": []
  },
  {
   "cell_type": "code",
   "execution_count": null,
   "id": "6ccc1d07",
   "metadata": {},
   "outputs": [],
   "source": []
  },
  {
   "cell_type": "markdown",
   "id": "c5550a2b",
   "metadata": {},
   "source": [
    "**Ejercicio 2**\n",
    "\n",
    "Se evaluó un clasificador binario utilizando un conjunto de 1000 ejemplos de prueba (test) en los que el 50 % de todos los ejemplos son negativos. El clasificador tiene 60 % de sensitivity y 70 % de accuracy. Escribe la matriz de confusión."
   ]
  },
  {
   "cell_type": "code",
   "execution_count": null,
   "id": "685b322e",
   "metadata": {},
   "outputs": [],
   "source": [
    "# Total ejemplos 1000\n",
    "total = 1000\n",
    "all_neg = 500\n",
    "recall = 0.6\n",
    "accuracy = 0.7\n",
    "\n"
   ]
  },
  {
   "cell_type": "markdown",
   "id": "98679afa",
   "metadata": {},
   "source": [
    "**Ejercicio 3**\n",
    "\n",
    "Utilizando la matriz de confusión creada en el ejercicio anterior, calcula la precisión del clasificador, la medida F1 y\n",
    "especificidad."
   ]
  },
  {
   "cell_type": "code",
   "execution_count": null,
   "id": "4e923e4f",
   "metadata": {},
   "outputs": [],
   "source": []
  },
  {
   "cell_type": "code",
   "execution_count": null,
   "id": "9fc02e2e",
   "metadata": {},
   "outputs": [],
   "source": []
  }
 ],
 "metadata": {
  "kernelspec": {
   "display_name": "Python 3",
   "language": "python",
   "name": "python3"
  },
  "language_info": {
   "codemirror_mode": {
    "name": "ipython",
    "version": 3
   },
   "file_extension": ".py",
   "mimetype": "text/x-python",
   "name": "python",
   "nbconvert_exporter": "python",
   "pygments_lexer": "ipython3",
   "version": "3.8.8"
  }
 },
 "nbformat": 4,
 "nbformat_minor": 5
}
