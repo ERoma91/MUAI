{
 "cells": [
  {
   "cell_type": "code",
   "execution_count": null,
   "id": "ef3f342a",
   "metadata": {},
   "outputs": [],
   "source": []
  },
  {
   "cell_type": "markdown",
   "id": "9c98372b",
   "metadata": {},
   "source": [
    "# Tema 8: Máquina de Vector de Soporte\n",
    "## Cuaderno de ejercicios"
   ]
  },
  {
   "cell_type": "markdown",
   "id": "f2fed516",
   "metadata": {},
   "source": [
    "**Ejercicio 1**\n",
    "\n",
    "Dado el siguiente conjunto de datos pertenecientes a dos clases:\n",
    "\n",
    "Clase -1\n",
    "[[1,9],[5,5],[1,1]]\n",
    "\n",
    "Clase +1\n",
    "[[8,5],[13,1],[13,9]]\n",
    "\n",
    "Dibuje los puntos en un plano e identifique los vectores de soporte y la frontera de decisión para un SVM lineal con un margen máximo para este conjunto de datos. \n",
    "\n",
    "\n",
    "\n"
   ]
  },
  {
   "cell_type": "markdown",
   "id": "eedcde4a",
   "metadata": {},
   "source": [
    "**Ejercicio 2**\n",
    "\n",
    "Comente como un clasificador SVM puede sobre ajustarse con el conjunto de datos de entrenamiento\n"
   ]
  },
  {
   "cell_type": "markdown",
   "id": "df2cb271",
   "metadata": {},
   "source": [
    "**Ejercicio 3**\n",
    "\n",
    "Aplique SVM al conjunto de datos del load_breast_cancer(). Intente entrenar con varios valores de C con un kernel lineal. ¿Puede un SVM lineal realizar una buena separación del espacio de características? "
   ]
  }
 ],
 "metadata": {
  "kernelspec": {
   "display_name": "Python 3",
   "language": "python",
   "name": "python3"
  },
  "language_info": {
   "codemirror_mode": {
    "name": "ipython",
    "version": 3
   },
   "file_extension": ".py",
   "mimetype": "text/x-python",
   "name": "python",
   "nbconvert_exporter": "python",
   "pygments_lexer": "ipython3",
   "version": "3.8.8"
  }
 },
 "nbformat": 4,
 "nbformat_minor": 5
}
