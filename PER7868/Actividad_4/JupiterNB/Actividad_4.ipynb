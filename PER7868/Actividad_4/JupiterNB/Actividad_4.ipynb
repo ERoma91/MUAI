{
 "cells": [
  {
   "cell_type": "markdown",
   "metadata": {},
   "source": [
    "## Ejercicio 1\n",
    "\n",
    "Crea una función llamada ejercicio1, que recibe la ruta donde se encuentra un dataset y devuelve una DataFrame con los datos que hay en el dataset. Para comprobar esta función utiliza el dataset `titanic.csv` que se incluye en esta actividad."
   ]
  },
  {
   "cell_type": "code",
   "execution_count": 35,
   "metadata": {},
   "outputs": [],
   "source": [
    "import pandas as pd\n",
    "import numpy as np\n",
    "\n",
    "def ejercicio1(url):\n",
    "    data = pd.read_csv(url)\n",
    "    return data"
   ]
  },
  {
   "cell_type": "markdown",
   "metadata": {},
   "source": [
    "## Ejercicio 2\n",
    "\n",
    "Crea otra función llamada ejercicio2. Esta función recibe un único argumento que es un dataframe. En concreto debe recibir el dataframe que se ha obtenido de leer el dataset `titanic.csv`. Esta función devolverá otro dataset que incluya únicamente a los pasajeros menores de 35 años y que viajaban en 3ª clase."
   ]
  },
  {
   "cell_type": "code",
   "execution_count": 4,
   "metadata": {},
   "outputs": [],
   "source": [
    "def ejercicio2(dF):\n",
    "    filterData = dF.apply(lambda item: item['Age'] < 35 and item['Pclass'] == 3, axis = 1)\n",
    "    dF = dF[filterData]\n",
    "    return dF"
   ]
  },
  {
   "cell_type": "markdown",
   "metadata": {},
   "source": [
    "## Ejercicio 3\n",
    "\n",
    "Crea una función llamada ejercicio3, que recibiendo como argumento el dataframe del dataset `titanic.csv`, calcule el porcentaje de persona que sobrevieron. Redondee el resultado al segundo decimal."
   ]
  },
  {
   "cell_type": "code",
   "execution_count": 5,
   "metadata": {},
   "outputs": [],
   "source": [
    "def ejercicio3(dF):\n",
    "    dF_filtered = dF.groupby(by = 'Survived').count()\n",
    "    dF_Consulta = dF_filtered['PassengerId']\n",
    "    avg = round(dF_Consulta[1] * 100 / (dF_Consulta[0] + dF_Consulta[1]) , 2)\n",
    "    return avg"
   ]
  },
  {
   "cell_type": "markdown",
   "metadata": {},
   "source": [
    "## Ejercicio 4\n",
    "\n",
    "Implementa una función llamada ejercicio4 que recibiendo el dataframe con los datos del Titanic, devuelva en una tupla el porcentaje de hombres y mujeres que viajaban en el Titanic, redondeados al segundo decimal."
   ]
  },
  {
   "cell_type": "code",
   "execution_count": 27,
   "metadata": {},
   "outputs": [],
   "source": [
    "def ejercicio4(dF):\n",
    "    dF_Filter = dF.groupby(by = 'Sex').count()\n",
    "    dF_Consulta = dF_Filter['PassengerId']\n",
    "    avgFemale = round(dF_Consulta[0] * 100 / (dF_Consulta[0] + dF_Consulta[1]) , 2)\n",
    "    avgMale = round(dF_Consulta[1] * 100 / (dF_Consulta[0] + dF_Consulta[1]) , 2)\n",
    "    tuplaSex = avgMale, avgFemale\n",
    "    return tuplaSex"
   ]
  },
  {
   "cell_type": "markdown",
   "metadata": {},
   "source": [
    "## Ejercicio 5\n",
    "\n",
    "\n",
    "Implementa una función llamada ejercicio5 que recibiendo el dataframe con los datos del Titanic, devuelva en una lista el número de pasajeros que viajaban en 1ª, 2ª y 3ª clase."
   ]
  },
  {
   "cell_type": "code",
   "execution_count": 36,
   "metadata": {},
   "outputs": [],
   "source": [
    "def ejercicio5(dF):\n",
    "    dF_Filter = dF.groupby(by = 'Pclass').count()\n",
    "    dF_Consulta = dF_Filter['PassengerId']\n",
    "    pclassList = dF_Consulta.to_numpy().tolist()\n",
    "    return pclassList"
   ]
  },
  {
   "cell_type": "code",
   "execution_count": 38,
   "metadata": {},
   "outputs": [],
   "source": [
    "#data1 = ejercicio1('titanic.csv')\n",
    "#data1\n",
    "#ejercicio2(data1)\n",
    "#ejercicio3(data1)\n",
    "#ejercicio4(data1)\n",
    "#ejercicio5(data1)"
   ]
  }
 ],
 "metadata": {
  "kernelspec": {
   "display_name": "Python 3 (ipykernel)",
   "language": "python",
   "name": "python3"
  },
  "language_info": {
   "codemirror_mode": {
    "name": "ipython",
    "version": 3
   },
   "file_extension": ".py",
   "mimetype": "text/x-python",
   "name": "python",
   "nbconvert_exporter": "python",
   "pygments_lexer": "ipython3",
   "version": "3.8.15"
  }
 },
 "nbformat": 4,
 "nbformat_minor": 2
}
